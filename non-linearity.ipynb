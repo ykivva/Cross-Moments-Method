{
 "cells": [
  {
   "cell_type": "code",
   "execution_count": 1,
   "metadata": {},
   "outputs": [],
   "source": [
    "%load_ext autoreload\n",
    "%autoreload 2"
   ]
  },
  {
   "cell_type": "code",
   "execution_count": 2,
   "metadata": {},
   "outputs": [],
   "source": [
    "import numpy as np\n",
    "\n",
    "from sklearn.linear_model import LinearRegression\n",
    "\n",
    "import matplotlib.pyplot as plt"
   ]
  },
  {
   "cell_type": "markdown",
   "metadata": {},
   "source": [
    "### Uniform distibution "
   ]
  },
  {
   "cell_type": "code",
   "execution_count": 3,
   "metadata": {},
   "outputs": [],
   "source": [
    "from datasets import ArtificialDataset_NonLin\n",
    "from cross_moment import get_beta"
   ]
  },
  {
   "cell_type": "markdown",
   "metadata": {},
   "source": [
    "### Performance & Transformation Scale"
   ]
  },
  {
   "cell_type": "code",
   "execution_count": 4,
   "metadata": {},
   "outputs": [
    {
     "data": {
      "image/png": "[encoded data removed]",
      "text/plain": [
       "<Figure size 432x288 with 1 Axes>"
      ]
     },
     "metadata": {
      "needs_background": "light"
     },
     "output_type": "display_data"
    }
   ],
   "source": [
    "dist_name = \"Uniform\"\n",
    "seed = 1999\n",
    "deg = 3\n",
    "n_exp = 10\n",
    "min_scale = 2\n",
    "step_scale = 1\n",
    "max_scale = 11\n",
    "np.random.seed(seed)\n",
    "\n",
    "betas_true = np.zeros(n_exp, dtype=float)\n",
    "betas = {}\n",
    "betas_reg = {}\n",
    "betas_did = {}\n",
    "scale_noise = 0.1\n",
    "scale_noise_Z = 0.1\n",
    "n_samples = 10000\n",
    "for i in range(n_exp):\n",
    "    seed = np.random.randint(1000)\n",
    "    alpha_d, alpha_z, beta, gamma = 0, 0, 0, 0\n",
    "    while abs(alpha_d) < 0.2:\n",
    "        alpha_d = -2 + 4 * np.random.rand()\n",
    "\n",
    "    scale = 0\n",
    "    while abs(scale) < 0.2:\n",
    "        scale = -2 + 4 * np.random.rand()\n",
    "        alpha_z = alpha_d * scale\n",
    "\n",
    "    scale = 0\n",
    "    while abs(scale) < 0.2:\n",
    "        scale = -2 + 4 * np.random.rand()\n",
    "        beta = alpha_d * scale\n",
    "\n",
    "    scale = 0\n",
    "    while abs(scale) < 0.5 or abs(scale) > 2:\n",
    "        scale = -2 + 4 * np.random.rand()\n",
    "        gamma = alpha_z * scale\n",
    "        \n",
    "    betas_true[i] = beta\n",
    "\n",
    "    for tran_scale in range(min_scale, max_scale, step_scale):\n",
    "        # Initialize variances randomly\n",
    "        var_u, var_d, var_z, var_w, var_y = 0, 0, 0, 0, 0\n",
    "        while var_u < 1/3:\n",
    "            var_u = 1/3 * 100 * np.random.rand()\n",
    "        var_d = scale_noise * var_u\n",
    "        var_z = scale_noise_Z * var_u\n",
    "        var_y = scale_noise * var_u\n",
    "\n",
    "        radius_u = np.sqrt(var_u * 12)\n",
    "        radius_d = np.sqrt(var_d * 12)\n",
    "        radius_z = np.sqrt(var_z * 12)\n",
    "        radius_y = np.sqrt(var_y * 12)\n",
    "        \n",
    "        dist_param = {\n",
    "            \"U\": {\"low\": -radius_u, \"high\": radius_u},\n",
    "            \"D\": {\"low\": -radius_d, \"high\": radius_d},\n",
    "            \"Z\": {\"low\": -radius_z, \"high\": radius_z},\n",
    "            \"Y\": {\"low\": -radius_y, \"high\": radius_y},\n",
    "        }\n",
    "        dist_conf = (dist_name, dist_param)\n",
    "\n",
    "        # Get synthetic data\n",
    "        artific_dataset = ArtificialDataset_NonLin(alpha_z, alpha_d, beta, gamma, n_samples, dist_conf, seed, tran_scale=tran_scale)\n",
    "        Z = artific_dataset.Z.numpy()\n",
    "        D = artific_dataset.D.numpy()\n",
    "        Y = artific_dataset.Y.numpy()\n",
    "\n",
    "        if tran_scale not in betas.keys():\n",
    "            betas[tran_scale] = []\n",
    "        betas[tran_scale].append(get_beta(Z, D, Y, deg))\n",
    "        \n",
    "        # Prepare dataset of simple linear regression\n",
    "        data_tmp = np.concatenate((np.expand_dims(Z, axis=1), np.expand_dims(D, axis=1)), axis=1)\n",
    "\n",
    "        # Estimate beta with simple linear regression\n",
    "        reg = LinearRegression().fit(data_tmp, Y)\n",
    "        if tran_scale not in betas_reg.keys():\n",
    "            betas_reg[tran_scale] = []\n",
    "        betas_reg[tran_scale].append(reg.coef_[-1])\n",
    "        \n",
    "        # Prepare dataset of DiD estimation\n",
    "        T_z = np.zeros(len(Z), dtype=np.float32)\n",
    "        T_y = np.ones(len(Y), dtype=np.float32)\n",
    "        T = np.concatenate((T_z, T_y))\n",
    "        D_new = np.concatenate((D, D))\n",
    "        TD = np.concatenate((T_z, D))\n",
    "        Y_new = np.concatenate((Z, Y))\n",
    "        data_did =  np.concatenate((np.expand_dims(T, 1), np.expand_dims(D_new, 1), np.expand_dims(TD, 1)), axis=1)\n",
    "\n",
    "        # Estimate beta with DiD\n",
    "        reg = LinearRegression().fit(data_did, Y_new)\n",
    "        if tran_scale not in betas_did.keys():\n",
    "            betas_did[tran_scale] = []\n",
    "        betas_did[tran_scale].append(reg.coef_[-1])\n",
    "    \n",
    "# Preprocess data to make a plot\n",
    "x = list(range(min_scale, max_scale, step_scale))\n",
    "y = np.zeros(len(x))\n",
    "yerr = np.zeros(len(x))\n",
    "y_reg = np.zeros(len(x))\n",
    "yerr_reg = np.zeros(len(x))\n",
    "y_did = np.zeros(len(x))\n",
    "yerr_did = np.zeros(len(x))\n",
    "\n",
    "\n",
    "for i, tran_scale in enumerate(range(min_scale, max_scale, step_scale)):\n",
    "    x[i] = tran_scale\n",
    "    \n",
    "    estimates = np.abs((np.array(betas[tran_scale]) - betas_true) / betas_true)\n",
    "    y[i] = np.mean(estimates)\n",
    "    yerr[i] = np.std(estimates)\n",
    "    \n",
    "    estimates = np.abs((np.array(betas_reg[tran_scale]) - betas_true) / betas_true)\n",
    "    y_reg[i] = np.mean(estimates)\n",
    "    yerr_reg[i] = np.std(estimates)\n",
    "\n",
    "    estimates = np.abs((np.array(betas_did[tran_scale]) - betas_true) / betas_true)\n",
    "    y_did[i] = np.mean(estimates)\n",
    "    yerr_did[i] = np.std(estimates)\n",
    "\n",
    "# Plot the results\n",
    "eps=0.3\n",
    "plt.title(\"Uniform distribution\")\n",
    "plt.xlabel(\"Parameter a\")\n",
    "plt.ylabel(\"Err\")\n",
    "plt.plot(x, y, label=\"Cross-Moment\", color=\"limegreen\")\n",
    "plt.fill_between(x, y - yerr, y + yerr, alpha=0.6, color=\"limegreen\")\n",
    "plt.plot(x, y_reg, label=\"Regression\", color=\"gold\")\n",
    "plt.fill_between(x, y_reg - yerr_reg, y_reg + yerr_reg, alpha=0.4, color=\"gold\")\n",
    "plt.plot(x, y_did, label=\"DiD\", color=\"crimson\")\n",
    "plt.fill_between(x, y_did - yerr_did, y_did + yerr_did, alpha=0.4, color=\"crimson\")\n",
    "plt.legend(loc=\"upper right\")\n",
    "plt.grid()\n",
    "plt.ylim(0, 2)\n",
    "plt.savefig(\"./figures/uniform_samples_nonlin_tran.png\")\n",
    "plt.show()"
   ]
  },
  {
   "cell_type": "code",
   "execution_count": null,
   "metadata": {},
   "outputs": [],
   "source": []
  }
 ],
 "metadata": {
  "kernelspec": {
   "display_name": "python3",
   "language": "python",
   "name": "python3"
  },
  "language_info": {
   "codemirror_mode": {
    "name": "ipython",
    "version": 3
   },
   "file_extension": ".py",
   "mimetype": "text/x-python",
   "name": "python",
   "nbconvert_exporter": "python",
   "pygments_lexer": "ipython3",
   "version": "3.11.4"
  },
  "orig_nbformat": 4
 },
 "nbformat": 4,
 "nbformat_minor": 2
}
