{
 "cells": [
  {
   "cell_type": "code",
   "execution_count": 1,
   "metadata": {},
   "outputs": [],
   "source": [
    "%load_ext autoreload\n",
    "%autoreload 2"
   ]
  },
  {
   "cell_type": "code",
   "execution_count": 107,
   "metadata": {},
   "outputs": [],
   "source": [
    "import numpy as np\n",
    "import pandas as pd\n",
    "import os\n",
    "\n",
    "import torch\n",
    "from sklearn.linear_model import LinearRegression\n",
    "\n",
    "import pdb"
   ]
  },
  {
   "cell_type": "code",
   "execution_count": 137,
   "metadata": {},
   "outputs": [],
   "source": [
    "def estimate_expectation(data):\n",
    "    estimate = torch.mean(data)\n",
    "    return estimate\n",
    "\n",
    "def compute_alpha(Z, X, max_m=6):\n",
    "    deg_m = 2\n",
    "    var_u = estimate_expectation(Z*X)\n",
    "    sign = torch.sign(var_u)\n",
    "    alpha2 = None\n",
    "    alpha_estimations = []\n",
    "    \n",
    "    while deg_m<max_m:\n",
    "        diff_normal_X = estimate_expectation(X**(deg_m)*Z) - deg_m*var_u*estimate_expectation(X**(deg_m-1))\n",
    "        diff_normal_Z = estimate_expectation(Z**(deg_m)*X) - deg_m*var_u*estimate_expectation(Z**(deg_m-1))\n",
    "        \n",
    "        alpha_sq = ((diff_normal_X) / (diff_normal_Z))\n",
    "        if alpha_sq < 0:\n",
    "            alpha_sq = -(abs(alpha_sq)**(1/(deg_m-1)))\n",
    "        else:\n",
    "            alpha_sq = alpha_sq**(1/(deg_m-1))\n",
    "        alpha_sq = abs(alpha_sq)*sign\n",
    "        alpha_estimations.append((alpha_sq, deg_m))\n",
    "        deg_m += 1\n",
    "    \n",
    "    return alpha_estimations\n",
    "\n",
    "def compute_beta(Z, X, Y, alpha_sq):\n",
    "    numerator = estimate_expectation(X*Y) - alpha_sq*estimate_expectation(Y*Z)\n",
    "    denominator = estimate_expectation(X*X) - alpha_sq*estimate_expectation(X*Z)\n",
    "    return numerator / denominator"
   ]
  },
  {
   "cell_type": "code",
   "execution_count": 138,
   "metadata": {},
   "outputs": [],
   "source": [
    "file = \"data/krueger/krueger_fast_food.csv\"\n",
    "file_path = os.path.join(os.getcwd(), file)\n",
    "data = pd.read_csv(file_path)\n",
    "\n",
    "data_pre_treat = data[data[\"Treatment\"]==0].reset_index()\n",
    "data_post_treat = data[data[\"Treatment\"]==1].reset_index()\n",
    "assert (data_pre_treat[\"Group\"]==data_post_treat[\"Group\"]).all(), \"Discrepancy in data\"\n",
    "\n",
    "Z = torch.from_numpy(data_pre_treat[\"Empl\"].to_numpy())\n",
    "X = torch.from_numpy(data_pre_treat[\"Group\"].to_numpy(dtype=np.float32))\n",
    "Y = torch.from_numpy(data_post_treat[\"Empl\"].to_numpy())\n",
    "\n",
    "mask = torch.logical_or(Z.isnan(), X.isnan())\n",
    "mask = torch.logical_or(mask,  Y.isnan())\n",
    "mask = torch.logical_not(mask)\n",
    "Z = Z[mask]\n",
    "X = X[mask]\n",
    "Y = Y[mask]\n",
    "\n",
    "\n",
    "Z -= estimate_expectation(Z)\n",
    "X -= estimate_expectation(X)\n",
    "Y -= estimate_expectation(Y)"
   ]
  },
  {
   "attachments": {},
   "cell_type": "markdown",
   "metadata": {},
   "source": [
    "### Estimation of beta by our method"
   ]
  },
  {
   "cell_type": "code",
   "execution_count": 171,
   "metadata": {},
   "outputs": [],
   "source": [
    "max_deg = 40\n",
    "betas_est = []\n",
    "alpha_estimations = compute_alpha(Z, X, max_deg)"
   ]
  },
  {
   "cell_type": "code",
   "execution_count": 173,
   "metadata": {},
   "outputs": [
    {
     "name": "stdout",
     "output_type": "stream",
     "text": [
      "For degree 2 we estimate beta as: 3.985089435582578\n",
      "For degree 3 we estimate beta as: 2.127888108632464\n",
      "For degree 4 we estimate beta as: 2.3806719938332073\n",
      "For degree 5 we estimate beta as: 3.3704736599676437\n",
      "For degree 6 we estimate beta as: 5.19234204452204\n",
      "For degree 7 we estimate beta as: 3.8699104401743836\n",
      "For degree 8 we estimate beta as: 3.4824169412230934\n",
      "For degree 9 we estimate beta as: 3.3095408045253634\n",
      "For degree 10 we estimate beta as: 3.203543927054919\n",
      "For degree 11 we estimate beta as: 3.1291460963364623\n",
      "For degree 12 we estimate beta as: 3.072767289179275\n",
      "For degree 13 we estimate beta as: 3.0279301533696907\n",
      "For degree 14 we estimate beta as: 2.9910583565726396\n",
      "For degree 15 we estimate beta as: 2.9599847754816864\n",
      "For degree 16 we estimate beta as: 2.933301984878247\n",
      "For degree 17 we estimate beta as: 2.910047538939887\n",
      "For degree 18 we estimate beta as: 2.889536231840652\n",
      "For degree 19 we estimate beta as: 2.871264163606398\n",
      "For degree 20 we estimate beta as: 2.854850901043454\n",
      "For degree 21 we estimate beta as: 2.840002606564055\n",
      "For degree 22 we estimate beta as: 2.8264881029532165\n",
      "For degree 23 we estimate beta as: 2.814122353222152\n",
      "For degree 24 we estimate beta as: 2.8027551945532228\n",
      "For degree 25 we estimate beta as: 2.7922630614986765\n",
      "For degree 26 we estimate beta as: 2.7825432372490204\n",
      "For degree 27 we estimate beta as: 2.7735093541036897\n",
      "For degree 28 we estimate beta as: 2.7650881881429865\n",
      "For degree 29 we estimate beta as: 2.757217117353912\n",
      "For degree 30 we estimate beta as: 2.7498421522265737\n",
      "For degree 31 we estimate beta as: 2.742916503148071\n",
      "For degree 32 we estimate beta as: 2.73639928392415\n",
      "For degree 33 we estimate beta as: 2.7302546251670696\n",
      "For degree 34 we estimate beta as: 2.7244508720491534\n",
      "For degree 35 we estimate beta as: 2.7189599698608182\n",
      "For degree 36 we estimate beta as: 2.713756924867488\n",
      "For degree 37 we estimate beta as: 2.7088194138271957\n",
      "For degree 38 we estimate beta as: 2.7041273949766365\n",
      "For degree 39 we estimate beta as: 2.699662849215709\n"
     ]
    }
   ],
   "source": [
    "for (alpha_sq, deg) in alpha_estimations:\n",
    "    beta = compute_beta(Z, X, Y, alpha_sq)\n",
    "    betas_est.append(beta)\n",
    "    print(f\"For degree {deg} we estimate beta as: {beta}\")"
   ]
  },
  {
   "cell_type": "code",
   "execution_count": 174,
   "metadata": {},
   "outputs": [],
   "source": [
    "# deg = max_deg-1\n",
    "# print(f\"For {deg} beta is estimated to be: {betas_est[-1]}\")"
   ]
  },
  {
   "attachments": {},
   "cell_type": "markdown",
   "metadata": {},
   "source": [
    "### Estimation of beta with TFWE"
   ]
  },
  {
   "cell_type": "code",
   "execution_count": 58,
   "metadata": {},
   "outputs": [
    {
     "data": {
      "text/html": [
       "<div>\n",
       "<style scoped>\n",
       "    .dataframe tbody tr th:only-of-type {\n",
       "        vertical-align: middle;\n",
       "    }\n",
       "\n",
       "    .dataframe tbody tr th {\n",
       "        vertical-align: top;\n",
       "    }\n",
       "\n",
       "    .dataframe thead th {\n",
       "        text-align: right;\n",
       "    }\n",
       "</style>\n",
       "<table border=\"1\" class=\"dataframe\">\n",
       "  <thead>\n",
       "    <tr style=\"text-align: right;\">\n",
       "      <th></th>\n",
       "      <th>ID</th>\n",
       "      <th>Chain</th>\n",
       "      <th>SouthJ</th>\n",
       "      <th>CentralJ</th>\n",
       "      <th>NorthJ</th>\n",
       "      <th>PA1</th>\n",
       "      <th>PA2</th>\n",
       "      <th>Shore</th>\n",
       "      <th>Group</th>\n",
       "      <th>Empl</th>\n",
       "      <th>C.Owned</th>\n",
       "      <th>Hours.Opening</th>\n",
       "      <th>Soda</th>\n",
       "      <th>Fries</th>\n",
       "      <th>Treatment</th>\n",
       "      <th>PostTreatment</th>\n",
       "    </tr>\n",
       "  </thead>\n",
       "  <tbody>\n",
       "    <tr>\n",
       "      <th>0</th>\n",
       "      <td>46</td>\n",
       "      <td>1</td>\n",
       "      <td>0</td>\n",
       "      <td>0</td>\n",
       "      <td>0</td>\n",
       "      <td>1</td>\n",
       "      <td>0</td>\n",
       "      <td>0</td>\n",
       "      <td>0</td>\n",
       "      <td>30.0</td>\n",
       "      <td>0</td>\n",
       "      <td>16.5</td>\n",
       "      <td>1.03</td>\n",
       "      <td>1.03</td>\n",
       "      <td>0</td>\n",
       "      <td>0</td>\n",
       "    </tr>\n",
       "    <tr>\n",
       "      <th>1</th>\n",
       "      <td>49</td>\n",
       "      <td>2</td>\n",
       "      <td>0</td>\n",
       "      <td>0</td>\n",
       "      <td>0</td>\n",
       "      <td>1</td>\n",
       "      <td>0</td>\n",
       "      <td>0</td>\n",
       "      <td>0</td>\n",
       "      <td>6.5</td>\n",
       "      <td>0</td>\n",
       "      <td>13.0</td>\n",
       "      <td>1.01</td>\n",
       "      <td>0.90</td>\n",
       "      <td>0</td>\n",
       "      <td>0</td>\n",
       "    </tr>\n",
       "    <tr>\n",
       "      <th>2</th>\n",
       "      <td>506</td>\n",
       "      <td>2</td>\n",
       "      <td>0</td>\n",
       "      <td>0</td>\n",
       "      <td>0</td>\n",
       "      <td>1</td>\n",
       "      <td>0</td>\n",
       "      <td>0</td>\n",
       "      <td>0</td>\n",
       "      <td>3.0</td>\n",
       "      <td>1</td>\n",
       "      <td>10.0</td>\n",
       "      <td>0.95</td>\n",
       "      <td>0.74</td>\n",
       "      <td>0</td>\n",
       "      <td>0</td>\n",
       "    </tr>\n",
       "    <tr>\n",
       "      <th>3</th>\n",
       "      <td>56</td>\n",
       "      <td>4</td>\n",
       "      <td>0</td>\n",
       "      <td>0</td>\n",
       "      <td>0</td>\n",
       "      <td>1</td>\n",
       "      <td>0</td>\n",
       "      <td>0</td>\n",
       "      <td>0</td>\n",
       "      <td>20.0</td>\n",
       "      <td>1</td>\n",
       "      <td>12.0</td>\n",
       "      <td>0.87</td>\n",
       "      <td>0.82</td>\n",
       "      <td>0</td>\n",
       "      <td>0</td>\n",
       "    </tr>\n",
       "    <tr>\n",
       "      <th>4</th>\n",
       "      <td>61</td>\n",
       "      <td>4</td>\n",
       "      <td>0</td>\n",
       "      <td>0</td>\n",
       "      <td>0</td>\n",
       "      <td>1</td>\n",
       "      <td>0</td>\n",
       "      <td>0</td>\n",
       "      <td>0</td>\n",
       "      <td>6.0</td>\n",
       "      <td>1</td>\n",
       "      <td>12.0</td>\n",
       "      <td>0.87</td>\n",
       "      <td>0.77</td>\n",
       "      <td>0</td>\n",
       "      <td>0</td>\n",
       "    </tr>\n",
       "  </tbody>\n",
       "</table>\n",
       "</div>"
      ],
      "text/plain": [
       "    ID  Chain  SouthJ  CentralJ  NorthJ  PA1  PA2  Shore  Group  Empl  \\\n",
       "0   46      1       0         0       0    1    0      0      0  30.0   \n",
       "1   49      2       0         0       0    1    0      0      0   6.5   \n",
       "2  506      2       0         0       0    1    0      0      0   3.0   \n",
       "3   56      4       0         0       0    1    0      0      0  20.0   \n",
       "4   61      4       0         0       0    1    0      0      0   6.0   \n",
       "\n",
       "   C.Owned  Hours.Opening  Soda  Fries  Treatment  PostTreatment  \n",
       "0        0           16.5  1.03   1.03          0              0  \n",
       "1        0           13.0  1.01   0.90          0              0  \n",
       "2        1           10.0  0.95   0.74          0              0  \n",
       "3        1           12.0  0.87   0.82          0              0  \n",
       "4        1           12.0  0.87   0.77          0              0  "
      ]
     },
     "execution_count": 58,
     "metadata": {},
     "output_type": "execute_result"
    }
   ],
   "source": [
    "data = data.dropna()\n",
    "data[\"PostTreatment\"] = data[\"Group\"]*data[\"Treatment\"]\n",
    "data.head()\n"
   ]
  },
  {
   "cell_type": "code",
   "execution_count": 79,
   "metadata": {},
   "outputs": [
    {
     "name": "stdout",
     "output_type": "stream",
     "text": [
      "Beta estimate by linear regression:  4.140920858168537\n"
     ]
    }
   ],
   "source": [
    "X = data.drop([\"ID\", \"Chain\", \"Empl\"], axis=1).to_numpy()\n",
    "Y = data[\"Empl\"].to_numpy()\n",
    "\n",
    "reg = LinearRegression().fit(X, Y)\n",
    "reg.score(X, Y)\n",
    "beta = reg.coef_[-1]\n",
    "print(\"Beta estimate by linear regression: \", beta)"
   ]
  }
 ],
 "metadata": {
  "kernelspec": {
   "display_name": "python3",
   "language": "python",
   "name": "python3"
  },
  "language_info": {
   "codemirror_mode": {
    "name": "ipython",
    "version": 3
   },
   "file_extension": ".py",
   "mimetype": "text/x-python",
   "name": "python",
   "nbconvert_exporter": "python",
   "pygments_lexer": "ipython3",
   "version": "3.10.8"
  },
  "orig_nbformat": 4,
  "vscode": {
   "interpreter": {
    "hash": "0db8250e8dba57f1bfbc8411d77d46538ea8deca5670b94c63d8155450494a71"
   }
  }
 },
 "nbformat": 4,
 "nbformat_minor": 2
}
